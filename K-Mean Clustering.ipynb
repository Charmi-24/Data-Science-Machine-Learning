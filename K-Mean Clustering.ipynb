{
 "cells": [
  {
   "cell_type": "code",
   "execution_count": 1,
   "metadata": {},
   "outputs": [],
   "source": [
    "import pandas as pd\n",
    "import numpy as np\n",
    "import matplotlib.pyplot as plt\n",
    "import seaborn as sns\n",
    "%matplotlib inline"
   ]
  },
  {
   "cell_type": "code",
   "execution_count": 3,
   "metadata": {},
   "outputs": [],
   "source": [
    "from sklearn.datasets import make_blobs\n",
    "#makeblobs is use to create dummy dataset"
   ]
  },
  {
   "cell_type": "code",
   "execution_count": 4,
   "metadata": {},
   "outputs": [],
   "source": [
    "data = make_blobs(n_samples=200,n_features=2,centers=4,cluster_std=1.8,random_state=42)"
   ]
  },
  {
   "cell_type": "code",
   "execution_count": 5,
   "metadata": {},
   "outputs": [
    {
     "data": {
      "text/plain": [
       "<matplotlib.collections.PathCollection at 0x77dd758c88>"
      ]
     },
     "execution_count": 5,
     "metadata": {},
     "output_type": "execute_result"
    },
    {
     "data": {
      "image/png": "[encoded data removed]",
      "text/plain": [
       "<Figure size 432x288 with 1 Axes>"
      ]
     },
     "metadata": {
      "needs_background": "light"
     },
     "output_type": "display_data"
    }
   ],
   "source": [
    "plt.scatter(data[0][:,0],data[0][:,1],c= data[1],cmap='rainbow')"
   ]
  },
  {
   "cell_type": "code",
   "execution_count": 6,
   "metadata": {},
   "outputs": [
    {
     "data": {
      "text/plain": [
       "(array([[  7.99827296,   2.82606894],\n",
       "        [ -7.22473881,  10.49371064],\n",
       "        [ -8.86037195,   5.70846505],\n",
       "        [-11.44487957,   4.79008812],\n",
       "        [ -7.94048375,  -5.35082582],\n",
       "        [ -5.5344987 ,  -5.78144312],\n",
       "        [  4.2936291 ,   2.5159549 ],\n",
       "        [ -9.68619671,   7.7412128 ],\n",
       "        [  4.16349654,   6.86947418],\n",
       "        [ -5.41647538,  -5.74677768],\n",
       "        [ -8.54810204,  -6.98725523],\n",
       "        [  5.04930672,   4.32602664],\n",
       "        [  6.58937107,   3.87001338],\n",
       "        [ -7.75328158,  -6.73273614],\n",
       "        [-10.52488385,  -6.54449183],\n",
       "        [ -8.37181821,  -7.88843547],\n",
       "        [ -2.63881584,  10.82064534],\n",
       "        [-10.31832447,   7.7621599 ],\n",
       "        [ -5.64435885,  -9.78299816],\n",
       "        [ -4.02479692,  -9.10817749],\n",
       "        [ -3.05974604,  -5.02167212],\n",
       "        [ -7.73452875,  -8.05610221],\n",
       "        [ -8.25743435,   5.83450722],\n",
       "        [ -2.38764685,   6.44973939],\n",
       "        [ -7.61081241,   6.76504275],\n",
       "        [ -3.72765722,  10.11530345],\n",
       "        [ -4.58098606,   9.69054256],\n",
       "        [ -7.15284036,  -5.82113862],\n",
       "        [ -2.13324315,   5.48687991],\n",
       "        [  2.41336756,  -0.40365222],\n",
       "        [ -9.61449313,  -7.75173092],\n",
       "        [ -2.71324177, -10.24118694],\n",
       "        [-11.92196991,   9.76049319],\n",
       "        [-10.32422271,   6.7450284 ],\n",
       "        [ -1.85868553,  11.78275195],\n",
       "        [  4.81925129,   1.06691351],\n",
       "        [ -8.09505114,   6.30881872],\n",
       "        [  5.69622161,   5.91598981],\n",
       "        [ -8.39738793,   6.4110252 ],\n",
       "        [ -2.34402823,   5.43666208],\n",
       "        [ -9.04016072,  -7.48221182],\n",
       "        [ -3.96448611,   8.11112345],\n",
       "        [ -8.64634276,  -6.04832334],\n",
       "        [ -3.94128684,  -9.45436407],\n",
       "        [-10.31112499,  11.08982001],\n",
       "        [  5.76608006,   0.43028608],\n",
       "        [  3.03875286,   0.50471117],\n",
       "        [ -6.75398344,  -7.57367407],\n",
       "        [  2.16007397,   0.28508461],\n",
       "        [ -0.86147381,   9.60603813],\n",
       "        [ -4.89668248,   5.868586  ],\n",
       "        [ -3.48908653,   9.21394679],\n",
       "        [ -6.71533554,   6.47900674],\n",
       "        [  6.06373634,   0.33627227],\n",
       "        [ -5.17053721,   7.71856655],\n",
       "        [ -3.59226953,  12.34838686],\n",
       "        [ -3.04016712, -10.39386763],\n",
       "        [ -7.33424986,  -9.12611932],\n",
       "        [ -3.77289319,   8.42449426],\n",
       "        [  2.49553254,   3.15496618],\n",
       "        [ -7.12756485,   6.28509634],\n",
       "        [  2.98491521,   4.76305161],\n",
       "        [ -5.26034742,  -6.32697046],\n",
       "        [ -8.87255693,   5.51897006],\n",
       "        [ -7.26815061,   7.65353853],\n",
       "        [ -6.52131974,  -7.96049997],\n",
       "        [  2.72773215,   2.82563606],\n",
       "        [ -1.02861678,   6.81676756],\n",
       "        [ -7.08311224,   7.05881963],\n",
       "        [ -1.17995778,   9.32274903],\n",
       "        [ -1.92584648,   8.32113802],\n",
       "        [ -8.43496129,   7.34618924],\n",
       "        [ -4.14364096,   6.47213947],\n",
       "        [ -8.07084283,  -5.34572959],\n",
       "        [  7.1649086 ,  -0.55016223],\n",
       "        [ -5.95256371,  -5.95529488],\n",
       "        [  2.71227234,   2.84162003],\n",
       "        [ -3.35425152,   9.99089421],\n",
       "        [ -5.95254136,   0.05480709],\n",
       "        [ -3.37171125,   8.68009997],\n",
       "        [ -2.53349263,   7.11040646],\n",
       "        [  5.02524758,  -0.26916012],\n",
       "        [-12.7139084 ,  -8.72400735],\n",
       "        [ -8.25482832,   7.08926542],\n",
       "        [ -8.66373502,   8.39480556],\n",
       "        [ -7.85355247,   6.95957614],\n",
       "        [ -8.8288891 ,   7.40808798],\n",
       "        [ -2.3525129 ,   8.4760729 ],\n",
       "        [  4.74465453,  -0.08417685],\n",
       "        [ -9.23015392,   9.30132125],\n",
       "        [ -6.79759788,  -8.05299022],\n",
       "        [ -5.05686496,   8.25712455],\n",
       "        [  1.84868466,   2.09658304],\n",
       "        [  4.57739765,  -0.13045078],\n",
       "        [  4.66328224,   4.58953102],\n",
       "        [-10.13152735,   6.93931804],\n",
       "        [ -4.01978916,   8.45770385],\n",
       "        [  5.09076597,   2.59677646],\n",
       "        [ -6.08075222,  -5.4857683 ],\n",
       "        [ -3.2149923 ,   6.37995922],\n",
       "        [ -6.4884659 ,   7.36132983],\n",
       "        [ -9.64844561,   8.44465279],\n",
       "        [ -3.12608375,   7.57018704],\n",
       "        [ -7.25424724,  -7.76751128],\n",
       "        [ -1.97618112,   9.48418562],\n",
       "        [  4.23764582,   3.25837057],\n",
       "        [ -7.90350403,  10.08245296],\n",
       "        [ -7.44711183,  -5.513965  ],\n",
       "        [ -4.78593244,  -6.86169008],\n",
       "        [-11.70829754,   6.24464787],\n",
       "        [  5.10766787,   3.38045085],\n",
       "        [ -5.97065009,  -5.32175024],\n",
       "        [ -1.8906847 ,   5.84081385],\n",
       "        [ -7.59606857,   6.60132607],\n",
       "        [ -3.46276599,   9.93816751],\n",
       "        [-12.66134006,   6.37716388],\n",
       "        [ -6.22626926,   9.0502104 ],\n",
       "        [ -5.61404972,   8.00216858],\n",
       "        [ -3.33834741,  10.91710614],\n",
       "        [ -2.71736453,   8.47229948],\n",
       "        [ -4.96259933,   5.9422973 ],\n",
       "        [ -3.70180956,  -6.15114251],\n",
       "        [  2.85691345,   0.95383377],\n",
       "        [ -8.70187955,   6.10463183],\n",
       "        [ -8.223167  ,  10.70063043],\n",
       "        [  3.83615192,   3.51468751],\n",
       "        [ -1.91292345,  10.77026736],\n",
       "        [  6.10420983,  -0.24238609],\n",
       "        [  3.04893545,   2.24987487],\n",
       "        [ -0.65339848,  10.69059034],\n",
       "        [ -5.16242402,  -5.70760534],\n",
       "        [ -6.91725006,  -6.6689203 ],\n",
       "        [  0.12897016,   8.60788879],\n",
       "        [ -8.79420944,   8.21991984],\n",
       "        [-10.34982707,   6.24461615],\n",
       "        [  6.37395587,   2.71617535],\n",
       "        [ -6.76392316,  -8.82005019],\n",
       "        [ -3.02052783,  -5.73905535],\n",
       "        [ -2.33445803,  10.75784711],\n",
       "        [ -4.59918712,  -8.15391463],\n",
       "        [  1.18609065,   1.92544471],\n",
       "        [ -4.33229364,   9.57993133],\n",
       "        [-11.21474753,  10.62014869],\n",
       "        [  1.74640901,   2.30551063],\n",
       "        [  4.50109576,   2.58724324],\n",
       "        [ -4.89993251,   9.36863635],\n",
       "        [  3.41583434,   2.39122634],\n",
       "        [ -7.29454043,   7.03563356],\n",
       "        [ -6.67529597,  -5.68827438],\n",
       "        [ -7.67170727,  -6.64477655],\n",
       "        [ -4.50060058,   6.8611142 ],\n",
       "        [ -8.8716514 ,   6.80393737],\n",
       "        [  6.11958712,   5.38739705],\n",
       "        [ -9.04449948,   9.55159228],\n",
       "        [ -8.27071258,  -7.30638309],\n",
       "        [ -6.75372818,   8.74851576],\n",
       "        [-10.64915904,   5.13798341],\n",
       "        [  5.10346954,   1.83916704],\n",
       "        [  5.49170656,   1.84207764],\n",
       "        [  6.72535088,   0.49594151],\n",
       "        [ -1.04665114,  11.45551818],\n",
       "        [  4.19818023,   0.61644459],\n",
       "        [  5.28389608,   2.98258183],\n",
       "        [ -9.03409602,   8.04660402],\n",
       "        [ -2.90460702,   9.65708876],\n",
       "        [ -5.85202427,  -4.83609144],\n",
       "        [  5.16740929,   0.68733713],\n",
       "        [  3.23002291,   1.39345895],\n",
       "        [ -6.37384183,  -8.00096873],\n",
       "        [  5.13792228,   3.46209953],\n",
       "        [ -6.53853094,   6.25869442],\n",
       "        [ -2.4999934 ,   8.59202929],\n",
       "        [ -8.16717387,  -5.65683365],\n",
       "        [ -6.23699932,  -8.12734686],\n",
       "        [  6.6969599 ,   3.32664914],\n",
       "        [ -4.28533527,  -9.46466147],\n",
       "        [  4.74829321,   6.40700549],\n",
       "        [ -3.59034726,   8.48923738],\n",
       "        [ -2.7995119 ,   9.74157767],\n",
       "        [ -9.14921831,  -5.22795809],\n",
       "        [ -3.34334947,   8.17597257],\n",
       "        [ -8.30616452,  -7.08663519],\n",
       "        [ -8.66251078,   5.9321053 ],\n",
       "        [ -7.71491209,   8.45454483],\n",
       "        [ -7.35257833,   8.78784026],\n",
       "        [  0.15101166,   8.08139974],\n",
       "        [  5.57937365,   2.5077421 ],\n",
       "        [  4.9516045 ,   2.66674097],\n",
       "        [  3.11565014,  -0.75355532],\n",
       "        [ -2.57368449,  11.83064471],\n",
       "        [ -1.85825278,   7.85307057],\n",
       "        [ -8.19428713,  -6.49048413],\n",
       "        [-10.45547417,   8.20897742],\n",
       "        [-10.20476655,   7.59423173],\n",
       "        [ -2.07366553,   5.57038169],\n",
       "        [ -8.27869414,   9.97916411],\n",
       "        [  8.03501346,   2.28740975],\n",
       "        [  0.33338544,  10.39566864],\n",
       "        [ -7.72910455,  -4.91999852],\n",
       "        [  2.88545183,   3.38992197]]),\n",
       " array([1, 0, 3, 3, 2, 2, 1, 3, 1, 2, 2, 1, 1, 2, 2, 2, 0, 3, 2, 2, 2, 2,\n",
       "        3, 0, 3, 0, 0, 2, 0, 1, 2, 2, 3, 3, 0, 1, 3, 1, 3, 0, 2, 0, 2, 2,\n",
       "        3, 1, 1, 2, 1, 0, 3, 0, 3, 1, 0, 0, 2, 2, 0, 1, 3, 1, 2, 3, 3, 2,\n",
       "        1, 0, 3, 0, 0, 3, 0, 2, 1, 2, 1, 0, 2, 0, 0, 1, 2, 3, 3, 3, 3, 0,\n",
       "        1, 3, 2, 0, 1, 1, 1, 3, 0, 1, 2, 0, 3, 3, 0, 2, 0, 1, 3, 2, 2, 3,\n",
       "        1, 2, 0, 3, 0, 3, 3, 0, 0, 0, 3, 2, 1, 3, 3, 1, 0, 1, 1, 0, 2, 2,\n",
       "        0, 3, 3, 1, 2, 2, 0, 2, 1, 0, 3, 1, 1, 0, 1, 3, 2, 2, 0, 3, 1, 3,\n",
       "        2, 3, 3, 1, 1, 1, 0, 1, 1, 3, 0, 2, 1, 1, 2, 1, 3, 0, 2, 2, 1, 2,\n",
       "        1, 0, 0, 2, 0, 2, 3, 3, 3, 0, 1, 1, 1, 0, 0, 2, 3, 3, 0, 3, 1, 0,\n",
       "        2, 1]))"
      ]
     },
     "execution_count": 6,
     "metadata": {},
     "output_type": "execute_result"
    }
   ],
   "source": [
    "data"
   ]
  },
  {
   "cell_type": "code",
   "execution_count": 8,
   "metadata": {},
   "outputs": [],
   "source": [
    "from sklearn.cluster import KMeans\n",
    "#this is unsupervised"
   ]
  },
  {
   "cell_type": "code",
   "execution_count": 9,
   "metadata": {},
   "outputs": [],
   "source": [
    "kmeans = KMeans(n_clusters=4)"
   ]
  },
  {
   "cell_type": "code",
   "execution_count": 10,
   "metadata": {},
   "outputs": [
    {
     "data": {
      "text/plain": [
       "KMeans(algorithm='auto', copy_x=True, init='k-means++', max_iter=300,\n",
       "       n_clusters=4, n_init=10, n_jobs=None, precompute_distances='auto',\n",
       "       random_state=None, tol=0.0001, verbose=0)"
      ]
     },
     "execution_count": 10,
     "metadata": {},
     "output_type": "execute_result"
    }
   ],
   "source": [
    "kmeans.fit(data[0])"
   ]
  },
  {
   "cell_type": "code",
   "execution_count": 11,
   "metadata": {},
   "outputs": [
    {
     "data": {
      "text/plain": [
       "array([[-8.80180093,  7.6007331 ],\n",
       "       [-6.65349084, -6.89692005],\n",
       "       [ 4.5394351 ,  2.27912418],\n",
       "       [-2.85095191,  8.66676102]])"
      ]
     },
     "execution_count": 11,
     "metadata": {},
     "output_type": "execute_result"
    }
   ],
   "source": [
    "kmeans.cluster_centers_"
   ]
  },
  {
   "cell_type": "code",
   "execution_count": 12,
   "metadata": {},
   "outputs": [
    {
     "data": {
      "text/plain": [
       "array([2, 0, 0, 0, 1, 1, 2, 0, 2, 1, 1, 2, 2, 1, 1, 1, 3, 0, 1, 1, 1, 1,\n",
       "       0, 3, 0, 3, 3, 1, 3, 2, 1, 1, 0, 0, 3, 2, 0, 2, 0, 3, 1, 3, 1, 1,\n",
       "       0, 2, 2, 1, 2, 3, 3, 3, 0, 2, 3, 3, 1, 1, 3, 2, 0, 2, 1, 0, 0, 1,\n",
       "       2, 3, 0, 3, 3, 0, 3, 1, 2, 1, 2, 3, 1, 3, 3, 2, 1, 0, 0, 0, 0, 3,\n",
       "       2, 0, 1, 3, 2, 2, 2, 0, 3, 2, 1, 3, 0, 0, 3, 1, 3, 2, 0, 1, 1, 0,\n",
       "       2, 1, 3, 0, 3, 0, 0, 3, 3, 3, 3, 1, 2, 0, 0, 2, 3, 2, 2, 3, 1, 1,\n",
       "       3, 0, 0, 2, 1, 1, 3, 1, 2, 3, 0, 2, 2, 3, 2, 0, 1, 1, 3, 0, 2, 0,\n",
       "       1, 0, 0, 2, 2, 2, 3, 2, 2, 0, 3, 1, 2, 2, 1, 2, 0, 3, 1, 1, 2, 1,\n",
       "       2, 3, 3, 1, 3, 1, 0, 0, 0, 3, 2, 2, 2, 3, 3, 1, 0, 0, 3, 0, 2, 3,\n",
       "       1, 2])"
      ]
     },
     "execution_count": 12,
     "metadata": {},
     "output_type": "execute_result"
    }
   ],
   "source": [
    "kmeans.labels_"
   ]
  },
  {
   "cell_type": "code",
   "execution_count": null,
   "metadata": {},
   "outputs": [],
   "source": []
  }
 ],
 "metadata": {
  "kernelspec": {
   "display_name": "Python 3",
   "language": "python",
   "name": "python3"
  },
  "language_info": {
   "codemirror_mode": {
    "name": "ipython",
    "version": 3
   },
   "file_extension": ".py",
   "mimetype": "text/x-python",
   "name": "python",
   "nbconvert_exporter": "python",
   "pygments_lexer": "ipython3",
   "version": "3.9.5"
  }
 },
 "nbformat": 4,
 "nbformat_minor": 2
}
